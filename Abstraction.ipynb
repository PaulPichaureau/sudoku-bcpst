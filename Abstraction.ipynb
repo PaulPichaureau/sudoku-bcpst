{
 "cells": [
  {
   "cell_type": "markdown",
   "metadata": {},
   "source": [
    "# Écrire & développer intelligement un programme"
   ]
  },
  {
   "cell_type": "markdown",
   "metadata": {},
   "source": [
    "**Le problème** Écrire une fonction qui prend en paramètre les coordonnées de 3 points du plan et renvoie `True` s'ils forment un triangle équilatéral, `False` sinon.\n",
    "\n",
    "Petit rappel : la distance entre deux points du plan $A(x_A,y_A)$ et $B(x_b, y_B)$ vaut $$ AB = \\sqrt{ (x_B-x_A)^2 + (y_B-y_A)^2} $$"
   ]
  },
  {
   "cell_type": "markdown",
   "metadata": {},
   "source": [
    "## Solution naïve\n",
    "\n",
    "Proposer une solution ci-dessous : effacer la commande `pass` et saisisser votre proposition. \n",
    "\n",
    "Bien sûr, vous pouvez modifier l'entête et mettre les paramètres qui vous semblent judicieux. \n",
    "\n",
    "Quand vous avez fini, validez votre code en appuyant sur `Majuscule+Entrée`."
   ]
  },
  {
   "cell_type": "code",
   "execution_count": 50,
   "metadata": {},
   "outputs": [],
   "source": [
    "import math as m\n",
    "def est_équilatéral(xA,yA,xB,yB,xC,yC):\n",
    "    pass"
   ]
  },
  {
   "cell_type": "markdown",
   "metadata": {},
   "source": [
    "Tester votre fonction avec les points suivants : $A = (1,1), B = (2,2), C = (-2,4)$ et $D = (-1,1), E = (0,1), F =  (-0.5, 1.86602540378)$. Le triangle $DEF$ est équilatéral, mais pas le triangle $ABC$.\n",
    "\n",
    "Pour tester votre solution, mettez le curseur sur le champ ci-dessous, et appuyez sur `Majuscule+Entrée`. Le résultat doit être `False` et... `False` (à cause des erreurs d'arrondis, mais nous revenons là-dessus dans un instant).\n"
   ]
  },
  {
   "cell_type": "code",
   "execution_count": 51,
   "metadata": {},
   "outputs": [],
   "source": [
    "est_équilatéral(1,1,2,2,-2,4)"
   ]
  },
  {
   "cell_type": "code",
   "execution_count": 52,
   "metadata": {},
   "outputs": [],
   "source": [
    "est_équilatéral(-1,1,0,1,-0.5,1.86602540378)"
   ]
  },
  {
   "cell_type": "markdown",
   "metadata": {},
   "source": [
    "## Factoriser c'est simplifier\n",
    "\n",
    "En informatique, *factoriser* signifie décomposer une tâche complexe en plusieurs sous-tâches plus simples, en privilégiant surtout celles qui sont effectuées plusieurs fois. \n",
    "\n",
    "Dans l'exemple précédent, il y a deux tâches que l'on a effectué plusieurs fois : calculer la distance entre deux points et tester si elles sont égales. On peut *factoriser* ces deux tâches grâces à deux fonctions annexes. Par exemple celles-ci."
   ]
  },
  {
   "cell_type": "code",
   "execution_count": 28,
   "metadata": {
    "collapsed": true
   },
   "outputs": [],
   "source": [
    "def distance(xA, yA, xB, yB):\n",
    "    return m.sqrt( (xB-xA)**2 + (yB-yA)**2)\n",
    "\n",
    "def égalité (d1, d2):\n",
    "    return d1 == d2"
   ]
  },
  {
   "cell_type": "markdown",
   "metadata": {},
   "source": [
    "Utiliser ces deux fonctions et réécrivez la fonction `est_équilatéral`. Quand vous avez fini, validez votre code en appuyant sur `Majuscule+Entrée`."
   ]
  },
  {
   "cell_type": "code",
   "execution_count": 53,
   "metadata": {},
   "outputs": [],
   "source": [
    "def est_équilatéral(xA,yA,xB,yB,xC,yC):\n",
    "    pass"
   ]
  },
  {
   "cell_type": "markdown",
   "metadata": {},
   "source": [
    "Grâce à ce travail de factorisation, on peut maintenant traiter le problème de l'arrondi. Par le calcul, les distances entre les points seront rarement *exactement* égales. Il faut admettre une petite imprécision, par exemple de $10^{-6}$. \n",
    "\n",
    "Réécrivez la fonction `égalité` donnée ci-dessus dans cet esprit.\n",
    "\n",
    "Quand vous avez fini, validez votre code en appuyant sur `Majuscule+Entrée`. (Je ne le redirai plus...)"
   ]
  },
  {
   "cell_type": "code",
   "execution_count": 54,
   "metadata": {},
   "outputs": [],
   "source": [
    "def égalité (d1, d2):\n",
    "    pass"
   ]
  },
  {
   "cell_type": "markdown",
   "metadata": {},
   "source": [
    "Et tester le tout."
   ]
  },
  {
   "cell_type": "code",
   "execution_count": 55,
   "metadata": {},
   "outputs": [],
   "source": [
    "est_équilatéral(1,1,2,2,-2,4)"
   ]
  },
  {
   "cell_type": "code",
   "execution_count": 56,
   "metadata": {},
   "outputs": [],
   "source": [
    "est_équilatéral(-1,1,0,1,-0.5,1.86602540378)"
   ]
  },
  {
   "cell_type": "markdown",
   "metadata": {},
   "source": [
    "Maintenant le second triangle est bien détecté comme équilatéral... mais on peut faire mieux !"
   ]
  },
  {
   "cell_type": "markdown",
   "metadata": {},
   "source": [
    "## Abstraire c'est rendre concret"
   ]
  },
  {
   "cell_type": "markdown",
   "metadata": {
    "collapsed": true
   },
   "source": [
    "Le code précédent fonctionne, mais on en comprend mal le sens à la lecture. Pour le rendre plus concret, on va utiliser une `structure de données` plus adaptée au problème.\n",
    "\n",
    "Trouver une bonne structure de données est le travail essentiel d'un programmeur. Une devise de l'Informatique est « Donnez-moi votre structure de données et je peux prévoir 90% de vos algorithmes. »\n",
    "\n",
    "Ici nous allons représenter un point par une liste de deux flottants."
   ]
  },
  {
   "cell_type": "markdown",
   "metadata": {},
   "source": [
    "Si on définit un point $M$ par une liste `M`, pour accéder à $x_M$ on a `M[0]`, pour accéder à $y_M$ on a `M[1]`.\n",
    "\n",
    "Ré-écrivez les fonctions `distance` et `est_équilatéral` en utilisant les entêtes ci-dessous."
   ]
  },
  {
   "cell_type": "code",
   "execution_count": 57,
   "metadata": {},
   "outputs": [],
   "source": [
    "def distance(A, B):\n",
    "    pass\n",
    "\n",
    "def est_équilatéral(A, B, C):\n",
    "    pass"
   ]
  },
  {
   "cell_type": "markdown",
   "metadata": {},
   "source": [
    "Et tester votre fonction."
   ]
  },
  {
   "cell_type": "code",
   "execution_count": 58,
   "metadata": {},
   "outputs": [],
   "source": [
    "A = [1, 1]\n",
    "B = [2, 2]\n",
    "C = [-2, 4]\n",
    "est_équilatéral(A, B, C)"
   ]
  },
  {
   "cell_type": "code",
   "execution_count": 59,
   "metadata": {},
   "outputs": [],
   "source": [
    "D = [-1, 1]\n",
    "E = [0, 1]\n",
    "F = [-0.5,  1.86602540378]\n",
    "\n",
    "est_équilatéral(D, E, F)"
   ]
  },
  {
   "cell_type": "markdown",
   "metadata": {},
   "source": [
    "## Moins de lignes, plus de style\n"
   ]
  },
  {
   "cell_type": "markdown",
   "metadata": {
    "collapsed": true
   },
   "source": [
    "Un énorme avantage de ces deux principes d'abstraction est que le code devient bien plus facile à lire. Voici mon corrigé :"
   ]
  },
  {
   "cell_type": "code",
   "execution_count": 60,
   "metadata": {},
   "outputs": [],
   "source": [
    "def distance(A, B):\n",
    "    return m.sqrt( (A[0]-B[0])**2 + (A[1] - B[1])**2)\n",
    "\n",
    "def égalité(d1, d2):\n",
    "    return abs(d1-d2) <= 10**(-6)\n",
    "\n",
    "def est_équilatéral(A, B, C):\n",
    "    return égalité( distance(A,B), distance(B, C) ) and égalité( distance(A,B), distance(A, C) ) and égalité( distance(A,C), distance(B, C) )"
   ]
  },
  {
   "cell_type": "markdown",
   "metadata": {},
   "source": [
    "Un autre avantage, c'est que le code peut maintenant très facilement évoluer. Plaçons-nous désormais dans l'espace. La distance entre deux points $A(x_A,y_A,z_A)$ et $B(x_b, y_B,z_B)$ s'écrit maintenant $$ AB = \\sqrt{ (x_B-x_A)^2 + (y_B-y_A)^2 + (z_B-z_A)^2} $$\n",
    "\n",
    "Que faut-il changer à notre petit code précédent pour répondre à la même question ?\n",
    "\n",
    "Faites les modification nécessaires :"
   ]
  },
  {
   "cell_type": "code",
   "execution_count": null,
   "metadata": {},
   "outputs": [],
   "source": []
  },
  {
   "cell_type": "markdown",
   "metadata": {},
   "source": [
    "Et tester votre code :"
   ]
  },
  {
   "cell_type": "code",
   "execution_count": 62,
   "metadata": {},
   "outputs": [
    {
     "output_type": "execute_result",
     "data": {
      "text/plain": "True"
     },
     "metadata": {},
     "execution_count": 62
    }
   ],
   "source": [
    "A = [-2, 4, 0]\n",
    "B = [1, 2, -1]\n",
    "C = [-1, 1, 2]\n",
    "# ABC est équilatéral\n",
    "\n",
    "est_équilatéral(A, B, C)"
   ]
  }
 ],
 "metadata": {
  "kernelspec": {
   "display_name": "Python 3",
   "language": "python",
   "name": "python3"
  },
  "language_info": {
   "codemirror_mode": {
    "name": "ipython",
    "version": 3
   },
   "file_extension": ".py",
   "mimetype": "text/x-python",
   "name": "python",
   "nbconvert_exporter": "python",
   "pygments_lexer": "ipython3",
   "version": "3.8.1-final"
  },
  "toc": {
   "colors": {
    "hover_highlight": "#DAA520",
    "running_highlight": "#FF0000",
    "selected_highlight": "#FFD700"
   },
   "moveMenuLeft": true,
   "nav_menu": {
    "height": "159px",
    "width": "252px"
   },
   "navigate_menu": true,
   "number_sections": true,
   "sideBar": true,
   "threshold": 4,
   "toc_cell": false,
   "toc_section_display": "block",
   "toc_window_display": false
  }
 },
 "nbformat": 4,
 "nbformat_minor": 1
}